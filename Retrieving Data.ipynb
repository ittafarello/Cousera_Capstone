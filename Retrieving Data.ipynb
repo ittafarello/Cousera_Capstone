{
    "cells": [
        {
            "cell_type": "markdown",
            "metadata": {},
            "source": "# Generate Dataframe scraping the Canada Postal Code from the [wikipedia](https://en.wikipedia.org/wiki/List_of_postal_codes_of_Canada:_M)"
        },
        {
            "cell_type": "markdown",
            "metadata": {},
            "source": "***"
        },
        {
            "cell_type": "code",
            "execution_count": 1,
            "metadata": {},
            "outputs": [],
            "source": "import urllib.request\nfrom bs4 import BeautifulSoup\nimport pandas as pd"
        },
        {
            "cell_type": "markdown",
            "metadata": {},
            "source": "### The function GetCanadaPostalCode will scrape the postal code from the wikipedia webpage using the library [beautifulsoup](https://www.crummy.com/software/BeautifulSoup/bs4/doc/#calling-a-tag-is-like-calling-find-all)"
        },
        {
            "cell_type": "code",
            "execution_count": 2,
            "metadata": {},
            "outputs": [],
            "source": "def searchPostalCode(postalcodes, postalcode):\n    '''\n    This function will search for the postalcode and return its position in the array\n    If postcode not found it will return -1\n    '''\n    totalrows = len(postalcodes)\n    # if totalrows is zero that means the array is empty, so no need search\n    if totalrows==0:\n        return -1\n    \n    totalcols = len(postalcodes[0]) # check the length of the first row, all rows should have the same number of columns\n    \n    #Loop through all thw postalcodes\n    for x in range(totalrows):\n        for y in range(totalcols):\n            # Position zero is the postal code\n            if postalcodes[x][0] == postalcodes:\n                return x\n    return -1"
        },
        {
            "cell_type": "code",
            "execution_count": 3,
            "metadata": {},
            "outputs": [],
            "source": "def GetCanadaPostalCode(baseurl):\n    '''\n    This function will return 1 array containing the column names and 2nd array containing all postalcodes \n    \n    '''\n    postalcodes = []\n    \n    #Read Web Page\n    content = urllib.request.urlopen(baseurl).read()\n    \n     #---------------------------------------------\n    #Scrape Table Header from Web Page\n    column_names=[]\n    for rows in BeautifulSoup(content, \"lxml\").findAll(\"table\"):\n        for index, cols in enumerate(rows.findAll(\"th\")):\n            cv = cols.get_text().rstrip(\"\\n\")\n            column_names.append(cv)\n        \n        #We need just the first table, the page has two tables\n        break\n    \n    #---------------------------------------------\n    #Scrape Table Content from Web Page\n    #find all tr tags\n    #Loop through all the rows in the table\n    for rows in BeautifulSoup(content, \"lxml\").findAll(\"tr\"):\n        \n        #search inside each row all tag td\n        totalcol = len(rows.findAll(\"td\"))\n        \n        if totalcol==3:\n            #initiate variables\n            cn = 0\n            col=[]\n            addRow=True\n            \n            #Loop through all the columns in the table\n            for index, cols in enumerate(rows.findAll(\"td\")):\n                #cleanup carriage return\n                cv = cols.get_text().rstrip(\"\\n\")\n                #cleanup blank values or \"Not assigned\"\n                if (cv=='Not assigned' or cv==\"\") :\n                    addRow=False\n                #append value in the column array\n                col.append(cv)\n                \n            if addRow==True:\n                #Search of existing postalcode and if found it will append the neighborhood name in the found position\n                pos = searchPostalCode(postalcodes,col[0][0])\n                if (pos==-1) :\n                    #append the new postalcode in the array\n                    postalcodes.append(col)\n                else:\n                    #append the neighborhood name in the found position\n                    postalcodes[pos][3]+=\", \"+col[0][2]\n\n    return column_names, postalcodes"
        },
        {
            "cell_type": "markdown",
            "metadata": {},
            "source": "### Read data"
        },
        {
            "cell_type": "code",
            "execution_count": 4,
            "metadata": {},
            "outputs": [],
            "source": "Header, PostalCodes = GetCanadaPostalCode(\"https://en.wikipedia.org/wiki/List_of_postal_codes_of_Canada:_M\")"
        },
        {
            "cell_type": "markdown",
            "metadata": {},
            "source": "### Generate dataframe"
        },
        {
            "cell_type": "code",
            "execution_count": 5,
            "metadata": {},
            "outputs": [],
            "source": "df_canada = pd.DataFrame(PostalCodes, columns=Header) "
        },
        {
            "cell_type": "markdown",
            "metadata": {},
            "source": "### Check results"
        },
        {
            "cell_type": "code",
            "execution_count": 6,
            "metadata": {},
            "outputs": [
                {
                    "data": {
                        "text/html": "<div>\n<style scoped>\n    .dataframe tbody tr th:only-of-type {\n        vertical-align: middle;\n    }\n\n    .dataframe tbody tr th {\n        vertical-align: top;\n    }\n\n    .dataframe thead th {\n        text-align: right;\n    }\n</style>\n<table border=\"1\" class=\"dataframe\">\n  <thead>\n    <tr style=\"text-align: right;\">\n      <th></th>\n      <th>Postal Code</th>\n      <th>Borough</th>\n      <th>Neighborhood</th>\n    </tr>\n  </thead>\n  <tbody>\n    <tr>\n      <th>6</th>\n      <td>M1B</td>\n      <td>Scarborough</td>\n      <td>Malvern, Rouge</td>\n    </tr>\n    <tr>\n      <th>12</th>\n      <td>M1C</td>\n      <td>Scarborough</td>\n      <td>Rouge Hill, Port Union, Highland Creek</td>\n    </tr>\n    <tr>\n      <th>18</th>\n      <td>M1E</td>\n      <td>Scarborough</td>\n      <td>Guildwood, Morningside, West Hill</td>\n    </tr>\n    <tr>\n      <th>22</th>\n      <td>M1G</td>\n      <td>Scarborough</td>\n      <td>Woburn</td>\n    </tr>\n    <tr>\n      <th>26</th>\n      <td>M1H</td>\n      <td>Scarborough</td>\n      <td>Cedarbrae</td>\n    </tr>\n    <tr>\n      <th>32</th>\n      <td>M1J</td>\n      <td>Scarborough</td>\n      <td>Scarborough Village</td>\n    </tr>\n    <tr>\n      <th>38</th>\n      <td>M1K</td>\n      <td>Scarborough</td>\n      <td>Kennedy Park, Ionview, East Birchmount Park</td>\n    </tr>\n    <tr>\n      <th>44</th>\n      <td>M1L</td>\n      <td>Scarborough</td>\n      <td>Golden Mile, Clairlea, Oakridge</td>\n    </tr>\n    <tr>\n      <th>51</th>\n      <td>M1M</td>\n      <td>Scarborough</td>\n      <td>Cliffside, Cliffcrest, Scarborough Village West</td>\n    </tr>\n    <tr>\n      <th>58</th>\n      <td>M1N</td>\n      <td>Scarborough</td>\n      <td>Birch Cliff, Cliffside West</td>\n    </tr>\n    <tr>\n      <th>65</th>\n      <td>M1P</td>\n      <td>Scarborough</td>\n      <td>Dorset Park, Wexford Heights, Scarborough Town...</td>\n    </tr>\n    <tr>\n      <th>71</th>\n      <td>M1R</td>\n      <td>Scarborough</td>\n      <td>Wexford, Maryvale</td>\n    </tr>\n    <tr>\n      <th>78</th>\n      <td>M1S</td>\n      <td>Scarborough</td>\n      <td>Agincourt</td>\n    </tr>\n    <tr>\n      <th>82</th>\n      <td>M1T</td>\n      <td>Scarborough</td>\n      <td>Clarks Corners, Tam O'Shanter, Sullivan</td>\n    </tr>\n    <tr>\n      <th>85</th>\n      <td>M1V</td>\n      <td>Scarborough</td>\n      <td>Milliken, Agincourt North, Steeles East, L'Amo...</td>\n    </tr>\n    <tr>\n      <th>90</th>\n      <td>M1W</td>\n      <td>Scarborough</td>\n      <td>Steeles West, L'Amoreaux West</td>\n    </tr>\n    <tr>\n      <th>95</th>\n      <td>M1X</td>\n      <td>Scarborough</td>\n      <td>Upper Rouge</td>\n    </tr>\n    <tr>\n      <th>27</th>\n      <td>M2H</td>\n      <td>North York</td>\n      <td>Hillcrest Village</td>\n    </tr>\n    <tr>\n      <th>33</th>\n      <td>M2J</td>\n      <td>North York</td>\n      <td>Fairview, Henry Farm, Oriole</td>\n    </tr>\n    <tr>\n      <th>39</th>\n      <td>M2K</td>\n      <td>North York</td>\n      <td>Bayview Village</td>\n    </tr>\n    <tr>\n      <th>45</th>\n      <td>M2L</td>\n      <td>North York</td>\n      <td>York Mills, Silver Hills</td>\n    </tr>\n    <tr>\n      <th>52</th>\n      <td>M2M</td>\n      <td>North York</td>\n      <td>Willowdale, Newtonbrook</td>\n    </tr>\n    <tr>\n      <th>59</th>\n      <td>M2N</td>\n      <td>North York</td>\n      <td>Willowdale</td>\n    </tr>\n    <tr>\n      <th>66</th>\n      <td>M2P</td>\n      <td>North York</td>\n      <td>York Mills West</td>\n    </tr>\n    <tr>\n      <th>72</th>\n      <td>M2R</td>\n      <td>North York</td>\n      <td>Willowdale</td>\n    </tr>\n    <tr>\n      <th>0</th>\n      <td>M3A</td>\n      <td>North York</td>\n      <td>Parkwoods</td>\n    </tr>\n    <tr>\n      <th>7</th>\n      <td>M3B</td>\n      <td>North York</td>\n      <td>Don Mills</td>\n    </tr>\n    <tr>\n      <th>13</th>\n      <td>M3C</td>\n      <td>North York</td>\n      <td>Don Mills</td>\n    </tr>\n    <tr>\n      <th>28</th>\n      <td>M3H</td>\n      <td>North York</td>\n      <td>Bathurst Manor, Wilson Heights, Downsview North</td>\n    </tr>\n    <tr>\n      <th>34</th>\n      <td>M3J</td>\n      <td>North York</td>\n      <td>Northwood Park, York University</td>\n    </tr>\n    <tr>\n      <th>...</th>\n      <td>...</td>\n      <td>...</td>\n      <td>...</td>\n    </tr>\n    <tr>\n      <th>16</th>\n      <td>M6C</td>\n      <td>York</td>\n      <td>Humewood-Cedarvale</td>\n    </tr>\n    <tr>\n      <th>21</th>\n      <td>M6E</td>\n      <td>York</td>\n      <td>Caledonia-Fairbanks</td>\n    </tr>\n    <tr>\n      <th>25</th>\n      <td>M6G</td>\n      <td>Downtown Toronto</td>\n      <td>Christie</td>\n    </tr>\n    <tr>\n      <th>31</th>\n      <td>M6H</td>\n      <td>West Toronto</td>\n      <td>Dufferin, Dovercourt Village</td>\n    </tr>\n    <tr>\n      <th>37</th>\n      <td>M6J</td>\n      <td>West Toronto</td>\n      <td>Little Portugal, Trinity</td>\n    </tr>\n    <tr>\n      <th>43</th>\n      <td>M6K</td>\n      <td>West Toronto</td>\n      <td>Brockton, Parkdale Village, Exhibition Place</td>\n    </tr>\n    <tr>\n      <th>49</th>\n      <td>M6L</td>\n      <td>North York</td>\n      <td>North Park, Maple Leaf Park, Upwood Park</td>\n    </tr>\n    <tr>\n      <th>56</th>\n      <td>M6M</td>\n      <td>York</td>\n      <td>Del Ray, Mount Dennis, Keelsdale and Silverthorn</td>\n    </tr>\n    <tr>\n      <th>63</th>\n      <td>M6N</td>\n      <td>York</td>\n      <td>Runnymede, The Junction North</td>\n    </tr>\n    <tr>\n      <th>69</th>\n      <td>M6P</td>\n      <td>West Toronto</td>\n      <td>High Park, The Junction South</td>\n    </tr>\n    <tr>\n      <th>75</th>\n      <td>M6R</td>\n      <td>West Toronto</td>\n      <td>Parkdale, Roncesvalles</td>\n    </tr>\n    <tr>\n      <th>81</th>\n      <td>M6S</td>\n      <td>West Toronto</td>\n      <td>Runnymede, Swansea</td>\n    </tr>\n    <tr>\n      <th>4</th>\n      <td>M7A</td>\n      <td>Downtown Toronto</td>\n      <td>Queen's Park, Ontario Provincial Government</td>\n    </tr>\n    <tr>\n      <th>76</th>\n      <td>M7R</td>\n      <td>Mississauga</td>\n      <td>Canada Post Gateway Processing Centre</td>\n    </tr>\n    <tr>\n      <th>100</th>\n      <td>M7Y</td>\n      <td>East Toronto</td>\n      <td>Business reply mail Processing Centre</td>\n    </tr>\n    <tr>\n      <th>88</th>\n      <td>M8V</td>\n      <td>Etobicoke</td>\n      <td>New Toronto, Mimico South, Humber Bay Shores</td>\n    </tr>\n    <tr>\n      <th>93</th>\n      <td>M8W</td>\n      <td>Etobicoke</td>\n      <td>Alderwood, Long Branch</td>\n    </tr>\n    <tr>\n      <th>98</th>\n      <td>M8X</td>\n      <td>Etobicoke</td>\n      <td>The Kingsway, Montgomery Road, Old Mill North</td>\n    </tr>\n    <tr>\n      <th>101</th>\n      <td>M8Y</td>\n      <td>Etobicoke</td>\n      <td>Old Mill South, King's Mill Park, Sunnylea, Hu...</td>\n    </tr>\n    <tr>\n      <th>102</th>\n      <td>M8Z</td>\n      <td>Etobicoke</td>\n      <td>Mimico NW, The Queensway West, South of Bloor,...</td>\n    </tr>\n    <tr>\n      <th>5</th>\n      <td>M9A</td>\n      <td>Etobicoke</td>\n      <td>Islington Avenue</td>\n    </tr>\n    <tr>\n      <th>11</th>\n      <td>M9B</td>\n      <td>Etobicoke</td>\n      <td>West Deane Park, Princess Gardens, Martin Grov...</td>\n    </tr>\n    <tr>\n      <th>17</th>\n      <td>M9C</td>\n      <td>Etobicoke</td>\n      <td>Eringate, Bloordale Gardens, Old Burnhamthorpe...</td>\n    </tr>\n    <tr>\n      <th>50</th>\n      <td>M9L</td>\n      <td>North York</td>\n      <td>Humber Summit</td>\n    </tr>\n    <tr>\n      <th>57</th>\n      <td>M9M</td>\n      <td>North York</td>\n      <td>Humberlea, Emery</td>\n    </tr>\n    <tr>\n      <th>64</th>\n      <td>M9N</td>\n      <td>York</td>\n      <td>Weston</td>\n    </tr>\n    <tr>\n      <th>70</th>\n      <td>M9P</td>\n      <td>Etobicoke</td>\n      <td>Westmount</td>\n    </tr>\n    <tr>\n      <th>77</th>\n      <td>M9R</td>\n      <td>Etobicoke</td>\n      <td>Kingsview Village, St. Phillips, Martin Grove ...</td>\n    </tr>\n    <tr>\n      <th>89</th>\n      <td>M9V</td>\n      <td>Etobicoke</td>\n      <td>South Steeles, Silverstone, Humbergate, Jamest...</td>\n    </tr>\n    <tr>\n      <th>94</th>\n      <td>M9W</td>\n      <td>Etobicoke</td>\n      <td>Northwest</td>\n    </tr>\n  </tbody>\n</table>\n<p>103 rows \u00d7 3 columns</p>\n</div>",
                        "text/plain": "    Postal Code           Borough  \\\n6           M1B       Scarborough   \n12          M1C       Scarborough   \n18          M1E       Scarborough   \n22          M1G       Scarborough   \n26          M1H       Scarborough   \n32          M1J       Scarborough   \n38          M1K       Scarborough   \n44          M1L       Scarborough   \n51          M1M       Scarborough   \n58          M1N       Scarborough   \n65          M1P       Scarborough   \n71          M1R       Scarborough   \n78          M1S       Scarborough   \n82          M1T       Scarborough   \n85          M1V       Scarborough   \n90          M1W       Scarborough   \n95          M1X       Scarborough   \n27          M2H        North York   \n33          M2J        North York   \n39          M2K        North York   \n45          M2L        North York   \n52          M2M        North York   \n59          M2N        North York   \n66          M2P        North York   \n72          M2R        North York   \n0           M3A        North York   \n7           M3B        North York   \n13          M3C        North York   \n28          M3H        North York   \n34          M3J        North York   \n..          ...               ...   \n16          M6C              York   \n21          M6E              York   \n25          M6G  Downtown Toronto   \n31          M6H      West Toronto   \n37          M6J      West Toronto   \n43          M6K      West Toronto   \n49          M6L        North York   \n56          M6M              York   \n63          M6N              York   \n69          M6P      West Toronto   \n75          M6R      West Toronto   \n81          M6S      West Toronto   \n4           M7A  Downtown Toronto   \n76          M7R       Mississauga   \n100         M7Y      East Toronto   \n88          M8V         Etobicoke   \n93          M8W         Etobicoke   \n98          M8X         Etobicoke   \n101         M8Y         Etobicoke   \n102         M8Z         Etobicoke   \n5           M9A         Etobicoke   \n11          M9B         Etobicoke   \n17          M9C         Etobicoke   \n50          M9L        North York   \n57          M9M        North York   \n64          M9N              York   \n70          M9P         Etobicoke   \n77          M9R         Etobicoke   \n89          M9V         Etobicoke   \n94          M9W         Etobicoke   \n\n                                          Neighborhood  \n6                                       Malvern, Rouge  \n12              Rouge Hill, Port Union, Highland Creek  \n18                   Guildwood, Morningside, West Hill  \n22                                              Woburn  \n26                                           Cedarbrae  \n32                                 Scarborough Village  \n38         Kennedy Park, Ionview, East Birchmount Park  \n44                     Golden Mile, Clairlea, Oakridge  \n51     Cliffside, Cliffcrest, Scarborough Village West  \n58                         Birch Cliff, Cliffside West  \n65   Dorset Park, Wexford Heights, Scarborough Town...  \n71                                   Wexford, Maryvale  \n78                                           Agincourt  \n82             Clarks Corners, Tam O'Shanter, Sullivan  \n85   Milliken, Agincourt North, Steeles East, L'Amo...  \n90                       Steeles West, L'Amoreaux West  \n95                                         Upper Rouge  \n27                                   Hillcrest Village  \n33                        Fairview, Henry Farm, Oriole  \n39                                     Bayview Village  \n45                            York Mills, Silver Hills  \n52                             Willowdale, Newtonbrook  \n59                                          Willowdale  \n66                                     York Mills West  \n72                                          Willowdale  \n0                                            Parkwoods  \n7                                            Don Mills  \n13                                           Don Mills  \n28     Bathurst Manor, Wilson Heights, Downsview North  \n34                     Northwood Park, York University  \n..                                                 ...  \n16                                  Humewood-Cedarvale  \n21                                 Caledonia-Fairbanks  \n25                                            Christie  \n31                        Dufferin, Dovercourt Village  \n37                            Little Portugal, Trinity  \n43        Brockton, Parkdale Village, Exhibition Place  \n49            North Park, Maple Leaf Park, Upwood Park  \n56    Del Ray, Mount Dennis, Keelsdale and Silverthorn  \n63                       Runnymede, The Junction North  \n69                       High Park, The Junction South  \n75                              Parkdale, Roncesvalles  \n81                                  Runnymede, Swansea  \n4          Queen's Park, Ontario Provincial Government  \n76               Canada Post Gateway Processing Centre  \n100              Business reply mail Processing Centre  \n88        New Toronto, Mimico South, Humber Bay Shores  \n93                              Alderwood, Long Branch  \n98       The Kingsway, Montgomery Road, Old Mill North  \n101  Old Mill South, King's Mill Park, Sunnylea, Hu...  \n102  Mimico NW, The Queensway West, South of Bloor,...  \n5                                     Islington Avenue  \n11   West Deane Park, Princess Gardens, Martin Grov...  \n17   Eringate, Bloordale Gardens, Old Burnhamthorpe...  \n50                                       Humber Summit  \n57                                    Humberlea, Emery  \n64                                              Weston  \n70                                           Westmount  \n77   Kingsview Village, St. Phillips, Martin Grove ...  \n89   South Steeles, Silverstone, Humbergate, Jamest...  \n94                                           Northwest  \n\n[103 rows x 3 columns]"
                    },
                    "execution_count": 6,
                    "metadata": {},
                    "output_type": "execute_result"
                }
            ],
            "source": "'''\nSorting options columns: Postal Code, Borough, Neighborhood\n'''\ndf_canada.sort_values(by='Postal Code', ascending=True)"
        },
        {
            "cell_type": "code",
            "execution_count": null,
            "metadata": {},
            "outputs": [],
            "source": ""
        }
    ],
    "metadata": {
        "kernelspec": {
            "display_name": "Python 3.6",
            "language": "python",
            "name": "python3"
        },
        "language_info": {
            "codemirror_mode": {
                "name": "ipython",
                "version": 3
            },
            "file_extension": ".py",
            "mimetype": "text/x-python",
            "name": "python",
            "nbconvert_exporter": "python",
            "pygments_lexer": "ipython3",
            "version": "3.6.9"
        }
    },
    "nbformat": 4,
    "nbformat_minor": 1
}
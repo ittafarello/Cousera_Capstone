{
    "cells": [
        {
            "metadata": {},
            "cell_type": "code",
            "source": "%%writefile custom.css\n<style>\n#notebook-container {\n    padding: 15px;\n    background-color: #F8F8FF;\n    min-height: 0;\n    -webkit-box-shadow: 0px 0px 12px 1px rgba(87, 87, 87, 0.3);\n    box-shadow: 0px 0px 12px 1px rgba(87, 87, 87, 0.3);\n}\n.notebook_app {\n    background-color: GhostWhite;\n}\nbody #header{\nbackground-color: #F8F8FF;\n}\n.column-66 {\n  float: left;\n  width: 66.66666%;\n  padding: 20px;\n}\n\n.column-33 {\n  float: left;\n  width: 33.33333%;\n  padding: 20px;\n}\n\n* {\n  box-sizing: border-box;\n}\n\n.row {\n  display: flex;\n}\n\n.column {\n  flex: 50%;\n  padding: 10px;\n}\n\n</style>",
            "execution_count": 3,
            "outputs": [
                {
                    "output_type": "stream",
                    "text": "Overwriting custom.css\n",
                    "name": "stdout"
                }
            ]
        },
        {
            "metadata": {},
            "cell_type": "code",
            "source": "",
            "execution_count": null,
            "outputs": []
        }
    ],
    "metadata": {
        "kernelspec": {
            "name": "python3",
            "display_name": "Python 3.6",
            "language": "python"
        },
        "language_info": {
            "name": "python",
            "version": "3.6.9",
            "mimetype": "text/x-python",
            "codemirror_mode": {
                "name": "ipython",
                "version": 3
            },
            "pygments_lexer": "ipython3",
            "nbconvert_exporter": "python",
            "file_extension": ".py"
        }
    },
    "nbformat": 4,
    "nbformat_minor": 1
}
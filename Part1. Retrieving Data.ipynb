{
    "cells": [
        {
            "metadata": {},
            "cell_type": "markdown",
            "source": "# Generate Dataframe scraping the Canada Postal Code from the [wikipedia](https://en.wikipedia.org/wiki/List_of_postal_codes_of_Canada:_M)"
        },
        {
            "metadata": {},
            "cell_type": "markdown",
            "source": "<div class=\"alert alert-warning alertwarning\" style=\"margin-top: 20px\">\n    \n<h3>Libraries</h3>\npandas, urllib.request, BeautifulSoup\n\n<h3>Keywords</h3>\nScrapping\n</div>"
        },
        {
            "metadata": {},
            "cell_type": "markdown",
            "source": "<a id=\"top\"></a>\n<div class=\"alert alert-block alert-info\" style=\"margin-top: 20px\">\n<h1>Table of Contents</h1>\n<hr>\n<ol>\n    <li><a href=\"#Part_1\">Part 1 - Scrape data from Wikipedia</a></li>\n</ol>\n<hr>\n</div>\n"
        },
        {
            "metadata": {},
            "cell_type": "markdown",
            "source": "<div class=\"alert alert-warning alertwarning\" style=\"margin-top: 20px\">\n<a id=\"Part_1\"></a>\n<h2>Part 1 - Scrape data from Wikipedia</h2>\n    \n<a href=\"#top\">Top</a>\n</div>"
        },
        {
            "metadata": {},
            "cell_type": "code",
            "source": "import urllib.request\nfrom bs4 import BeautifulSoup\nimport pandas as pd",
            "execution_count": 1,
            "outputs": []
        },
        {
            "metadata": {},
            "cell_type": "markdown",
            "source": "### The function GetCanadaPostalCode will scrape the postal code from the wikipedia webpage using the library [beautifulsoup](https://www.crummy.com/software/BeautifulSoup/bs4/doc/#calling-a-tag-is-like-calling-find-all)"
        },
        {
            "metadata": {},
            "cell_type": "code",
            "source": "def searchPostalCode(postalcodes, postalcode):\n    '''\n    This function will search for the postalcode and return its position in the array\n    If postcode not found it will return -1\n    '''\n    totalrows = len(postalcodes)\n    # if totalrows is zero that means the array is empty, so no need search\n    if totalrows==0:\n        return -1\n    \n    totalcols = len(postalcodes[0]) # check the length of the first row, all rows should have the same number of columns\n    \n    #Loop through all thw postalcodes\n    for x in range(totalrows):\n        for y in range(totalcols):\n            # Position zero is the postal code\n            if postalcodes[x][0] == postalcodes:\n                return x\n    return -1",
            "execution_count": 2,
            "outputs": []
        },
        {
            "metadata": {},
            "cell_type": "code",
            "source": "def GetCanadaPostalCode(baseurl):\n    '''\n    This function will return 1 array containing the column names and 2nd array containing all postalcodes \n    \n    '''\n    postalcodes = []\n    \n    #Read Web Page\n    content = urllib.request.urlopen(baseurl).read()\n    \n     #---------------------------------------------\n    #Scrape Table Header from Web Page\n    column_names=[]\n    for rows in BeautifulSoup(content, \"lxml\").findAll(\"table\"):\n        for index, cols in enumerate(rows.findAll(\"th\")):\n            cv = cols.get_text().rstrip(\"\\n\")\n            column_names.append(cv)\n        \n        #We need just the first table, the page has two tables\n        break\n    \n    #---------------------------------------------\n    #Scrape Table Content from Web Page\n    #find all tr tags\n    #Loop through all the rows in the table\n    for rows in BeautifulSoup(content, \"lxml\").findAll(\"tr\"):\n        \n        #search inside each row all tag td\n        totalcol = len(rows.findAll(\"td\"))\n        \n        if totalcol==3:\n            #initiate variables\n            cn = 0\n            col=[]\n            addRow=True\n            \n            #Loop through all the columns in the table\n            for index, cols in enumerate(rows.findAll(\"td\")):\n                #cleanup carriage return\n                cv = cols.get_text().rstrip(\"\\n\")\n                #cleanup blank values or \"Not assigned\"\n                if (cv=='Not assigned' or cv==\"\") :\n                    addRow=False\n                #append value in the column array\n                col.append(cv)\n                \n            if addRow==True:\n                #Search of existing postalcode and if found it will append the neighborhood name in the found position\n                pos = searchPostalCode(postalcodes,col[0][0])\n                if (pos==-1) :\n                    #append the new postalcode in the array\n                    postalcodes.append(col)\n                else:\n                    #append the neighborhood name in the found position\n                    postalcodes[pos][3]+=\", \"+col[0][2]\n\n    return column_names, postalcodes",
            "execution_count": 3,
            "outputs": []
        },
        {
            "metadata": {},
            "cell_type": "markdown",
            "source": "### Read data"
        },
        {
            "metadata": {},
            "cell_type": "code",
            "source": "Header, PostalCodes = GetCanadaPostalCode(\"https://en.wikipedia.org/wiki/List_of_postal_codes_of_Canada:_M\")",
            "execution_count": 4,
            "outputs": []
        },
        {
            "metadata": {},
            "cell_type": "markdown",
            "source": "### Generate dataframe"
        },
        {
            "metadata": {},
            "cell_type": "code",
            "source": "df_postalcodes = pd.DataFrame(PostalCodes, columns=Header) ",
            "execution_count": 5,
            "outputs": []
        },
        {
            "metadata": {},
            "cell_type": "markdown",
            "source": "### Check results, sorting by column Postal code"
        },
        {
            "metadata": {},
            "cell_type": "code",
            "source": "df_postalcodes.sort_values(by='Postal Code', ascending=True).head(12)",
            "execution_count": 6,
            "outputs": [
                {
                    "output_type": "execute_result",
                    "execution_count": 6,
                    "data": {
                        "text/plain": "   Postal Code      Borough                                       Neighborhood\n6          M1B  Scarborough                                     Malvern, Rouge\n12         M1C  Scarborough             Rouge Hill, Port Union, Highland Creek\n18         M1E  Scarborough                  Guildwood, Morningside, West Hill\n22         M1G  Scarborough                                             Woburn\n26         M1H  Scarborough                                          Cedarbrae\n32         M1J  Scarborough                                Scarborough Village\n38         M1K  Scarborough        Kennedy Park, Ionview, East Birchmount Park\n44         M1L  Scarborough                    Golden Mile, Clairlea, Oakridge\n51         M1M  Scarborough    Cliffside, Cliffcrest, Scarborough Village West\n58         M1N  Scarborough                        Birch Cliff, Cliffside West\n65         M1P  Scarborough  Dorset Park, Wexford Heights, Scarborough Town...\n71         M1R  Scarborough                                  Wexford, Maryvale",
                        "text/html": "<div>\n<style scoped>\n    .dataframe tbody tr th:only-of-type {\n        vertical-align: middle;\n    }\n\n    .dataframe tbody tr th {\n        vertical-align: top;\n    }\n\n    .dataframe thead th {\n        text-align: right;\n    }\n</style>\n<table border=\"1\" class=\"dataframe\">\n  <thead>\n    <tr style=\"text-align: right;\">\n      <th></th>\n      <th>Postal Code</th>\n      <th>Borough</th>\n      <th>Neighborhood</th>\n    </tr>\n  </thead>\n  <tbody>\n    <tr>\n      <th>6</th>\n      <td>M1B</td>\n      <td>Scarborough</td>\n      <td>Malvern, Rouge</td>\n    </tr>\n    <tr>\n      <th>12</th>\n      <td>M1C</td>\n      <td>Scarborough</td>\n      <td>Rouge Hill, Port Union, Highland Creek</td>\n    </tr>\n    <tr>\n      <th>18</th>\n      <td>M1E</td>\n      <td>Scarborough</td>\n      <td>Guildwood, Morningside, West Hill</td>\n    </tr>\n    <tr>\n      <th>22</th>\n      <td>M1G</td>\n      <td>Scarborough</td>\n      <td>Woburn</td>\n    </tr>\n    <tr>\n      <th>26</th>\n      <td>M1H</td>\n      <td>Scarborough</td>\n      <td>Cedarbrae</td>\n    </tr>\n    <tr>\n      <th>32</th>\n      <td>M1J</td>\n      <td>Scarborough</td>\n      <td>Scarborough Village</td>\n    </tr>\n    <tr>\n      <th>38</th>\n      <td>M1K</td>\n      <td>Scarborough</td>\n      <td>Kennedy Park, Ionview, East Birchmount Park</td>\n    </tr>\n    <tr>\n      <th>44</th>\n      <td>M1L</td>\n      <td>Scarborough</td>\n      <td>Golden Mile, Clairlea, Oakridge</td>\n    </tr>\n    <tr>\n      <th>51</th>\n      <td>M1M</td>\n      <td>Scarborough</td>\n      <td>Cliffside, Cliffcrest, Scarborough Village West</td>\n    </tr>\n    <tr>\n      <th>58</th>\n      <td>M1N</td>\n      <td>Scarborough</td>\n      <td>Birch Cliff, Cliffside West</td>\n    </tr>\n    <tr>\n      <th>65</th>\n      <td>M1P</td>\n      <td>Scarborough</td>\n      <td>Dorset Park, Wexford Heights, Scarborough Town...</td>\n    </tr>\n    <tr>\n      <th>71</th>\n      <td>M1R</td>\n      <td>Scarborough</td>\n      <td>Wexford, Maryvale</td>\n    </tr>\n  </tbody>\n</table>\n</div>"
                    },
                    "metadata": {}
                }
            ]
        },
        {
            "metadata": {},
            "cell_type": "code",
            "source": "df_postalcodes.shape",
            "execution_count": 7,
            "outputs": [
                {
                    "output_type": "execute_result",
                    "execution_count": 7,
                    "data": {
                        "text/plain": "(103, 3)"
                    },
                    "metadata": {}
                }
            ]
        }
    ],
    "metadata": {
        "kernelspec": {
            "name": "python3",
            "display_name": "Python 3.6",
            "language": "python"
        },
        "language_info": {
            "name": "python",
            "version": "3.6.9",
            "mimetype": "text/x-python",
            "codemirror_mode": {
                "name": "ipython",
                "version": 3
            },
            "pygments_lexer": "ipython3",
            "nbconvert_exporter": "python",
            "file_extension": ".py"
        }
    },
    "nbformat": 4,
    "nbformat_minor": 1
}